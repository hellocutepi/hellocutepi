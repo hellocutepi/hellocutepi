{
  "nbformat": 4,
  "nbformat_minor": 0,
  "metadata": {
    "colab": {
      "private_outputs": true,
      "provenance": [],
      "toc_visible": true,
      "mount_file_id": "1hq6SCrgfejUjzaL7Os3Mx_IDalxxzUca",
      "authorship_tag": "ABX9TyNKYZ3su3ZeswnSw1R+XYgy",
      "include_colab_link": true
    },
    "kernelspec": {
      "name": "python3",
      "display_name": "Python 3"
    },
    "language_info": {
      "name": "python"
    }
  },
  "cells": [
    {
      "cell_type": "markdown",
      "metadata": {
        "id": "view-in-github",
        "colab_type": "text"
      },
      "source": [
        "<a href=\"https://colab.research.google.com/github/hellocutepi/hellocutepi.github.io/blob/main/SVMdiabet.ipynb\" target=\"_parent\"><img src=\"https://colab.research.google.com/assets/colab-badge.svg\" alt=\"Open In Colab\"/></a>"
      ]
    },
    {
      "cell_type": "code",
      "execution_count": null,
      "metadata": {
        "id": "R5YV1FHhSHBu"
      },
      "outputs": [],
      "source": [
        "import pandas as pd\n",
        "import numpy as np\n",
        "import seaborn as sns\n",
        "import matplotlib.pyplot as plt\n",
        "\n",
        "from sklearn.metrics import confusion_matrix, accuracy_score, classification_report\n",
        "from sklearn.svm import SVC\n",
        "from sklearn.preprocessing import StandardScaler\n",
        "from sklearn.model_selection import train_test_split"
      ]
    },
    {
      "cell_type": "markdown",
      "source": [
        "Import Data"
      ],
      "metadata": {
        "id": "hiQZZVyATt35"
      }
    },
    {
      "cell_type": "code",
      "source": [
        "from google.colab import drive\n",
        "drive.mount('/content/drive')\n",
        "\n",
        "df = pd.read_csv('drive/My Drive/datadiabet/Diabetes.csv', index_col=0)\n",
        "df"
      ],
      "metadata": {
        "id": "slGYEszvTs-T"
      },
      "execution_count": null,
      "outputs": []
    },
    {
      "cell_type": "markdown",
      "source": [
        "1. DATA UNDERSTANDING"
      ],
      "metadata": {
        "id": "yPlFgigAZSrF"
      }
    },
    {
      "cell_type": "code",
      "source": [
        "print(\"Data Shape : \", df.shape)"
      ],
      "metadata": {
        "id": "U5QkRri1ZZHr"
      },
      "execution_count": null,
      "outputs": []
    },
    {
      "cell_type": "code",
      "source": [
        "df.info()"
      ],
      "metadata": {
        "id": "dPSqT2_caAhv"
      },
      "execution_count": null,
      "outputs": []
    },
    {
      "cell_type": "code",
      "source": [
        "df[['Kehamilan', 'Tekanan Darah', 'Umur', 'BMI']].describe()"
      ],
      "metadata": {
        "id": "lHwkkCcoYCGU"
      },
      "execution_count": null,
      "outputs": []
    },
    {
      "cell_type": "code",
      "source": [
        "df.Hasil.value_counts()"
      ],
      "metadata": {
        "id": "nZc6H1MCaxYU"
      },
      "execution_count": null,
      "outputs": []
    },
    {
      "cell_type": "markdown",
      "source": [
        "2.CLEANING DATA"
      ],
      "metadata": {
        "id": "VnvWAg5lbKtD"
      }
    },
    {
      "cell_type": "code",
      "source": [
        "df.isnull().sum()"
      ],
      "metadata": {
        "id": "wAwK1z6SbAkB"
      },
      "execution_count": null,
      "outputs": []
    },
    {
      "cell_type": "code",
      "source": [
        "df.duplicated().sum()"
      ],
      "metadata": {
        "id": "ZzkfEguJbOPE"
      },
      "execution_count": null,
      "outputs": []
    },
    {
      "cell_type": "markdown",
      "source": [
        "3.EXPLORATORY DATA ANALYSIS/ EDA"
      ],
      "metadata": {
        "id": "iDppo6OMbsoh"
      }
    },
    {
      "cell_type": "code",
      "source": [
        "plt.figure(figsize=(6,4))\n",
        "sns.histplot(data=df, x='Umur', bins=10, kde= True, color='#91008a')\n",
        "\n",
        "plt.title('Distribusi Umur')\n",
        "plt.xlabel('Umur')\n",
        "plt.ylabel('Frekuensi')\n",
        "plt.show()"
      ],
      "metadata": {
        "id": "jxjAt7D0cGDN"
      },
      "execution_count": null,
      "outputs": []
    },
    {
      "cell_type": "code",
      "source": [
        "sns.set_palette('pastel')\n",
        "df['Hasil'].value_counts().plot(kind='pie', autopct= '%1.1f%%')\n",
        "plt.title('Presentase Diabetes Vs Non Diabetes')\n"
      ],
      "metadata": {
        "id": "7bU4rnfBdNqT"
      },
      "execution_count": null,
      "outputs": []
    },
    {
      "cell_type": "code",
      "source": [
        "plt.figure(figsize=(6,4))\n",
        "sns.countplot(data=df, x='Hasil', palette='pastel')\n",
        "\n",
        "plt.title('Distribusi kelas')\n",
        "plt.xlabel('Hasil')\n",
        "plt.ylabel('Frekuensi')\n",
        "plt.show()"
      ],
      "metadata": {
        "id": "jfylcB4ldg0x"
      },
      "execution_count": null,
      "outputs": []
    },
    {
      "cell_type": "code",
      "source": [
        "df.corr()"
      ],
      "metadata": {
        "id": "0a2--bFqlEU_"
      },
      "execution_count": null,
      "outputs": []
    },
    {
      "cell_type": "code",
      "source": [
        "plt.figure(figsize=(6, 4))\n",
        "sns.heatmap(df.corr(), cmap=\"BuPu\", annot=True, fmt=\".2f\", linewidths=0.5)\n",
        "plt.title(\"Heatmap Korelasi\")\n",
        "plt.show()"
      ],
      "metadata": {
        "id": "L_lcPL_hlY58"
      },
      "execution_count": null,
      "outputs": []
    },
    {
      "cell_type": "code",
      "source": [
        "4. PREPARATION DATA"
      ],
      "metadata": {
        "id": "R2zirrcfmbGF"
      },
      "execution_count": null,
      "outputs": []
    },
    {
      "cell_type": "code",
      "source": [
        "X = df.drop(columns=['Hasil'])\n",
        "y = df['Hasil']\n",
        "\n",
        "print(\"X : \", X.shape)\n",
        "print(\"y : \", y.shape)"
      ],
      "metadata": {
        "id": "Y0vI_BaImgr2"
      },
      "execution_count": null,
      "outputs": []
    },
    {
      "cell_type": "code",
      "source": [
        "scaler = StandardScaler()\n",
        "scaler.fit(X)  # Gunakan X, sesuai deklarasi sebelumnya\n",
        "X = scaler.transform(X)"
      ],
      "metadata": {
        "id": "619SCAcfoKFz"
      },
      "execution_count": null,
      "outputs": []
    },
    {
      "cell_type": "code",
      "source": [
        "X_train, X_test, y_train, y_test = train_test_split(X,y, test_size=0.2, random_state=42)"
      ],
      "metadata": {
        "id": "9ZcMu-CspDkC"
      },
      "execution_count": null,
      "outputs": []
    },
    {
      "cell_type": "markdown",
      "source": [
        "5.MODELING DAN EVALUATION"
      ],
      "metadata": {
        "id": "-1vXsIyqp0gP"
      }
    },
    {
      "cell_type": "code",
      "source": [
        "clf = SVC(kernel='linear')\n",
        "clf.fit(X_train, y_train)\n",
        "\n",
        "y_pred = clf.predict(X_test)\n",
        "CLF_acc = accuracy_score(y_pred, y_test)\n",
        "print(classification_report(y_test, y_pred))\n",
        "print(\"Akurasi SVM :{:.2f}% \".format (CLF_acc*100))"
      ],
      "metadata": {
        "id": "8hmDUDSLp7FW"
      },
      "execution_count": null,
      "outputs": []
    },
    {
      "cell_type": "markdown",
      "source": [
        "6. TESTING"
      ],
      "metadata": {
        "id": "GOQOPV3Ur_6w"
      }
    },
    {
      "cell_type": "code",
      "source": [
        "new_data = {'Kehamilan': [1],\n",
        "            'Glukosa': [85],\n",
        "            'Tekanan Darah' : [66],\n",
        "            'Ketebalan Kulit' : [29],\n",
        "            'Insulin' : [0],\n",
        "            'BMI' : [26.6],\n",
        "            'DiabetesPedigreeFunction' : [0.351],\n",
        "            'Umur' :[31]}\n",
        "\n",
        "new_data = pd.DataFrame(new_data)\n",
        "new_data"
      ],
      "metadata": {
        "id": "n_bJcq-Woqyp"
      },
      "execution_count": null,
      "outputs": []
    },
    {
      "cell_type": "code",
      "source": [
        "scaled_new_data = scaler.transform(new_data)\n",
        "y_pred_new = clf.predict(scaled_new_data)\n",
        "\n",
        "print(\"Diagnosis Data Baru: \", y_pred_new )"
      ],
      "metadata": {
        "id": "XDo4OnwgtRUy"
      },
      "execution_count": null,
      "outputs": []
    }
  ]
}